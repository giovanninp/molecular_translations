{
 "cells": [
  {
   "cell_type": "code",
   "execution_count": 175,
   "id": "0dece1c4",
   "metadata": {},
   "outputs": [],
   "source": [
    "import os\n",
    "import glob\n",
    "import base64\n",
    "import pandas as pd\n",
    "import torch\n",
    "\n",
    "from PIL import Image\n",
    "from io import BytesIO\n",
    "from IPython.display import HTML"
   ]
  },
  {
   "cell_type": "code",
   "execution_count": 145,
   "id": "9da22780",
   "metadata": {},
   "outputs": [],
   "source": [
    "# DIRECTIORES\n",
    "\n",
    "BASE_DIR = os.getcwd()\n",
    "TRAIN_DIR = f\"{BASE_DIR}/train\"\n",
    "TEST_DIR = f\"{BASE_DIR}/test\"\n",
    "\n",
    "DIR_TYPES = {\n",
    "    \"train\": TRAIN_DIR,\n",
    "    \"test\": TEST_DIR\n",
    "}\n",
    "\n",
    "# PATH GETTERS\n",
    "\n",
    "get_path = lambda items_ids: \"/\".join(list(map(lambda id: f\"{id}\" ,items_ids)))\n",
    "get_file_path = lambda file_type, file_id, suffix = \"\": f\"{DIR_TYPES[file_type]}/{get_path(file_id)}{suffix}\"\n",
    "get_image_path = lambda image_id, file_type = 'train': get_file_path(file_type, [image_id[0],image_id[1],image_id[2], image_id], \".png\")"
   ]
  },
  {
   "cell_type": "code",
   "execution_count": 146,
   "id": "fc3f3549",
   "metadata": {},
   "outputs": [],
   "source": [
    "# IMAGE PREVIEW\n",
    "\n",
    "pd.set_option('display.max_colwidth', None)\n",
    "\n",
    "def get_thumbnail(path):\n",
    "    image = Image.open(path)\n",
    "    image.thumbnail((200, 200), Image.LANCZOS)\n",
    "    return image\n",
    "\n",
    "def image_base64(im):\n",
    "    if isinstance(im, str):\n",
    "        im = get_thumbnail(im)\n",
    "    with BytesIO() as buffer:\n",
    "        im.save(buffer, 'jpeg')\n",
    "        return base64.b64encode(buffer.getvalue()).decode()\n",
    "\n",
    "def image_formatter(im):\n",
    "    return f'<img src=\"data:image/jpeg;base64,{image_base64(im)}\">'"
   ]
  },
  {
   "cell_type": "code",
   "execution_count": 128,
   "id": "18367e29",
   "metadata": {},
   "outputs": [],
   "source": [
    "train_df = pd.read_csv(f\"{BASE_DIR}/train_labels.csv\")"
   ]
  },
  {
   "cell_type": "code",
   "execution_count": 129,
   "id": "322ff91d",
   "metadata": {},
   "outputs": [
    {
     "data": {
      "text/plain": [
       "Index(['image_id', 'InChI'], dtype='object')"
      ]
     },
     "execution_count": 129,
     "metadata": {},
     "output_type": "execute_result"
    }
   ],
   "source": [
    "train_df.columns"
   ]
  },
  {
   "cell_type": "code",
   "execution_count": 130,
   "id": "638522a8",
   "metadata": {},
   "outputs": [
    {
     "data": {
      "text/html": [
       "<div>\n",
       "<style scoped>\n",
       "    .dataframe tbody tr th:only-of-type {\n",
       "        vertical-align: middle;\n",
       "    }\n",
       "\n",
       "    .dataframe tbody tr th {\n",
       "        vertical-align: top;\n",
       "    }\n",
       "\n",
       "    .dataframe thead th {\n",
       "        text-align: right;\n",
       "    }\n",
       "</style>\n",
       "<table border=\"1\" class=\"dataframe\">\n",
       "  <thead>\n",
       "    <tr style=\"text-align: right;\">\n",
       "      <th></th>\n",
       "      <th>image_id</th>\n",
       "      <th>InChI</th>\n",
       "    </tr>\n",
       "  </thead>\n",
       "  <tbody>\n",
       "    <tr>\n",
       "      <th>count</th>\n",
       "      <td>2424186</td>\n",
       "      <td>2424186</td>\n",
       "    </tr>\n",
       "    <tr>\n",
       "      <th>unique</th>\n",
       "      <td>2424186</td>\n",
       "      <td>2424186</td>\n",
       "    </tr>\n",
       "    <tr>\n",
       "      <th>top</th>\n",
       "      <td>000011a64c74</td>\n",
       "      <td>InChI=1S/C13H20OS/c1-9(2)8-15-13-6-5-10(3)7-12(13)11(4)14/h5-7,9,11,14H,8H2,1-4H3</td>\n",
       "    </tr>\n",
       "    <tr>\n",
       "      <th>freq</th>\n",
       "      <td>1</td>\n",
       "      <td>1</td>\n",
       "    </tr>\n",
       "  </tbody>\n",
       "</table>\n",
       "</div>"
      ],
      "text/plain": [
       "            image_id  \\\n",
       "count        2424186   \n",
       "unique       2424186   \n",
       "top     000011a64c74   \n",
       "freq               1   \n",
       "\n",
       "                                                                                    InChI  \n",
       "count                                                                             2424186  \n",
       "unique                                                                            2424186  \n",
       "top     InChI=1S/C13H20OS/c1-9(2)8-15-13-6-5-10(3)7-12(13)11(4)14/h5-7,9,11,14H,8H2,1-4H3  \n",
       "freq                                                                                    1  "
      ]
     },
     "execution_count": 130,
     "metadata": {},
     "output_type": "execute_result"
    }
   ],
   "source": [
    "train.describe()"
   ]
  },
  {
   "cell_type": "code",
   "execution_count": 147,
   "id": "6cdcfeb2",
   "metadata": {},
   "outputs": [
    {
     "data": {
      "text/html": [
       "<div>\n",
       "<style scoped>\n",
       "    .dataframe tbody tr th:only-of-type {\n",
       "        vertical-align: middle;\n",
       "    }\n",
       "\n",
       "    .dataframe tbody tr th {\n",
       "        vertical-align: top;\n",
       "    }\n",
       "\n",
       "    .dataframe thead th {\n",
       "        text-align: right;\n",
       "    }\n",
       "</style>\n",
       "<table border=\"1\" class=\"dataframe\">\n",
       "  <thead>\n",
       "    <tr style=\"text-align: right;\">\n",
       "      <th></th>\n",
       "      <th>image_id</th>\n",
       "      <th>InChI</th>\n",
       "    </tr>\n",
       "  </thead>\n",
       "  <tbody>\n",
       "    <tr>\n",
       "      <th>0</th>\n",
       "      <td>000011a64c74</td>\n",
       "      <td>InChI=1S/C13H20OS/c1-9(2)8-15-13-6-5-10(3)7-12(13)11(4)14/h5-7,9,11,14H,8H2,1-4H3</td>\n",
       "    </tr>\n",
       "    <tr>\n",
       "      <th>1</th>\n",
       "      <td>000019cc0cd2</td>\n",
       "      <td>InChI=1S/C21H30O4/c1-12(22)25-14-6-8-20(2)13(10-14)11-17(23)19-15-4-5-18(24)21(15,3)9-7-16(19)20/h13-16,19H,4-11H2,1-3H3/t13-,14+,15+,16-,19-,20+,21+/m1/s1</td>\n",
       "    </tr>\n",
       "    <tr>\n",
       "      <th>2</th>\n",
       "      <td>0000252b6d2b</td>\n",
       "      <td>InChI=1S/C24H23N5O4/c1-14-13-15(7-8-17(14)28-12-10-20(28)30)27-11-9-16-21(23(25)31)26-29(22(16)24(27)32)18-5-3-4-6-19(18)33-2/h3-8,13H,9-12H2,1-2H3,(H2,25,31)</td>\n",
       "    </tr>\n",
       "    <tr>\n",
       "      <th>3</th>\n",
       "      <td>000026b49b7e</td>\n",
       "      <td>InChI=1S/C17H24N2O4S/c1-12(20)18-13(14-7-6-10-24-14)11-15(21)19-17(16(22)23)8-4-2-3-5-9-17/h6-7,10,13H,2-5,8-9,11H2,1H3,(H,18,20)(H,19,21)(H,22,23)</td>\n",
       "    </tr>\n",
       "    <tr>\n",
       "      <th>4</th>\n",
       "      <td>000026fc6c36</td>\n",
       "      <td>InChI=1S/C10H19N3O2S/c1-15-10(14)12-8-4-6-13(7-8)5-2-3-9(11)16/h8H,2-7H2,1H3,(H2,11,16)(H,12,14)</td>\n",
       "    </tr>\n",
       "    <tr>\n",
       "      <th>5</th>\n",
       "      <td>000028818203</td>\n",
       "      <td>InChI=1S/C19H22Br2N2O2/c1-13(2)10-16(19(24)25)23(9-8-14-6-4-3-5-7-14)15-11-17(20)22-18(21)12-15/h3-7,11-13,16H,8-10H2,1-2H3,(H,24,25)</td>\n",
       "    </tr>\n",
       "    <tr>\n",
       "      <th>6</th>\n",
       "      <td>000029a61c01</td>\n",
       "      <td>InChI=1S/C17H10BrN3O/c18-14-7-3-1-5-11(14)9-12(10-19)16-20-15-8-4-2-6-13(15)17(22)21-16/h1-9,13H/b12-9+</td>\n",
       "    </tr>\n",
       "    <tr>\n",
       "      <th>7</th>\n",
       "      <td>000035624718</td>\n",
       "      <td>InChI=1S/C21H21N5O2S/c1-15-7-8-18(17-5-4-11-22-20(15)17)29(27,28)25-13-9-16(10-14-25)21-24-23-19-6-2-3-12-26(19)21/h2-8,11-12,16H,9-10,13-14H2,1H3</td>\n",
       "    </tr>\n",
       "    <tr>\n",
       "      <th>8</th>\n",
       "      <td>00003e900ef4</td>\n",
       "      <td>InChI=1S/C13H18N2O5S/c1-4-10(13(17)18)15-12(16)9-5-7(2)8(3)11(6-9)21(14,19)20/h5-6,10H,4H2,1-3H3,(H,15,16)(H,17,18)(H2,14,19,20)</td>\n",
       "    </tr>\n",
       "    <tr>\n",
       "      <th>9</th>\n",
       "      <td>000045d5fbf9</td>\n",
       "      <td>InChI=1S/C13H15BrN2O3/c1-7-5-15-6-9(7)12(17)16-11-3-2-8(13(18)19)4-10(11)14/h2-4,7,9,15H,5-6H2,1H3,(H,16,17)(H,18,19)/t7-,9-/m1/s1</td>\n",
       "    </tr>\n",
       "  </tbody>\n",
       "</table>\n",
       "</div>"
      ],
      "text/plain": [
       "       image_id  \\\n",
       "0  000011a64c74   \n",
       "1  000019cc0cd2   \n",
       "2  0000252b6d2b   \n",
       "3  000026b49b7e   \n",
       "4  000026fc6c36   \n",
       "5  000028818203   \n",
       "6  000029a61c01   \n",
       "7  000035624718   \n",
       "8  00003e900ef4   \n",
       "9  000045d5fbf9   \n",
       "\n",
       "                                                                                                                                                            InChI  \n",
       "0                                                                               InChI=1S/C13H20OS/c1-9(2)8-15-13-6-5-10(3)7-12(13)11(4)14/h5-7,9,11,14H,8H2,1-4H3  \n",
       "1     InChI=1S/C21H30O4/c1-12(22)25-14-6-8-20(2)13(10-14)11-17(23)19-15-4-5-18(24)21(15,3)9-7-16(19)20/h13-16,19H,4-11H2,1-3H3/t13-,14+,15+,16-,19-,20+,21+/m1/s1  \n",
       "2  InChI=1S/C24H23N5O4/c1-14-13-15(7-8-17(14)28-12-10-20(28)30)27-11-9-16-21(23(25)31)26-29(22(16)24(27)32)18-5-3-4-6-19(18)33-2/h3-8,13H,9-12H2,1-2H3,(H2,25,31)  \n",
       "3             InChI=1S/C17H24N2O4S/c1-12(20)18-13(14-7-6-10-24-14)11-15(21)19-17(16(22)23)8-4-2-3-5-9-17/h6-7,10,13H,2-5,8-9,11H2,1H3,(H,18,20)(H,19,21)(H,22,23)  \n",
       "4                                                                InChI=1S/C10H19N3O2S/c1-15-10(14)12-8-4-6-13(7-8)5-2-3-9(11)16/h8H,2-7H2,1H3,(H2,11,16)(H,12,14)  \n",
       "5                           InChI=1S/C19H22Br2N2O2/c1-13(2)10-16(19(24)25)23(9-8-14-6-4-3-5-7-14)15-11-17(20)22-18(21)12-15/h3-7,11-13,16H,8-10H2,1-2H3,(H,24,25)  \n",
       "6                                                         InChI=1S/C17H10BrN3O/c18-14-7-3-1-5-11(14)9-12(10-19)16-20-15-8-4-2-6-13(15)17(22)21-16/h1-9,13H/b12-9+  \n",
       "7              InChI=1S/C21H21N5O2S/c1-15-7-8-18(17-5-4-11-22-20(15)17)29(27,28)25-13-9-16(10-14-25)21-24-23-19-6-2-3-12-26(19)21/h2-8,11-12,16H,9-10,13-14H2,1H3  \n",
       "8                                InChI=1S/C13H18N2O5S/c1-4-10(13(17)18)15-12(16)9-5-7(2)8(3)11(6-9)21(14,19)20/h5-6,10H,4H2,1-3H3,(H,15,16)(H,17,18)(H2,14,19,20)  \n",
       "9                              InChI=1S/C13H15BrN2O3/c1-7-5-15-6-9(7)12(17)16-11-3-2-8(13(18)19)4-10(11)14/h2-4,7,9,15H,5-6H2,1H3,(H,16,17)(H,18,19)/t7-,9-/m1/s1  "
      ]
     },
     "execution_count": 147,
     "metadata": {},
     "output_type": "execute_result"
    }
   ],
   "source": [
    "train_df.head(10)"
   ]
  },
  {
   "cell_type": "code",
   "execution_count": 148,
   "id": "d55678e5",
   "metadata": {},
   "outputs": [
    {
     "data": {
      "text/plain": [
       "image_id    object\n",
       "InChI       object\n",
       "dtype: object"
      ]
     },
     "execution_count": 148,
     "metadata": {},
     "output_type": "execute_result"
    }
   ],
   "source": [
    "train_df.dtypes"
   ]
  },
  {
   "cell_type": "code",
   "execution_count": 149,
   "id": "dbcb25b8",
   "metadata": {},
   "outputs": [
    {
     "data": {
      "text/plain": [
       "image_id                                                                         000011a64c74\n",
       "InChI       InChI=1S/C13H20OS/c1-9(2)8-15-13-6-5-10(3)7-12(13)11(4)14/h5-7,9,11,14H,8H2,1-4H3\n",
       "Name: 0, dtype: object"
      ]
     },
     "execution_count": 149,
     "metadata": {},
     "output_type": "execute_result"
    }
   ],
   "source": [
    "train_df.loc[0]"
   ]
  },
  {
   "cell_type": "code",
   "execution_count": 182,
   "id": "b3df1c85",
   "metadata": {},
   "outputs": [
    {
     "name": "stderr",
     "output_type": "stream",
     "text": [
      "/tmp/ipykernel_93/4094639364.py:5: DeprecationWarning: LANCZOS is deprecated and will be removed in Pillow 10 (2023-07-01). Use Resampling.LANCZOS instead.\n",
      "  image.thumbnail((200, 200), Image.LANCZOS)\n"
     ]
    },
    {
     "data": {
      "image/png": "[encoded data removed]",
      "text/plain": [
       "<PIL.PngImagePlugin.PngImageFile image mode=L size=200x141>"
      ]
     },
     "execution_count": 182,
     "metadata": {},
     "output_type": "execute_result"
    }
   ],
   "source": [
    "get_thumbnail(get_image_path(train_df.loc[0].image_id))"
   ]
  },
  {
   "cell_type": "code",
   "execution_count": 168,
   "id": "6f4ac5c1",
   "metadata": {},
   "outputs": [
    {
     "data": {
      "text/plain": [
       "0    InChI=1S/C13H20OS/c1-9(2)8-15-13-6-5-10(3)7-12(13)11(4)14/h5-7,9,11,14H,8H2,1-4H3\n",
       "Name: InChI, dtype: object"
      ]
     },
     "execution_count": 168,
     "metadata": {},
     "output_type": "execute_result"
    }
   ],
   "source": [
    "# UTILS\n",
    "\n",
    "get_InChI_by_image_id = lambda df,image_id: df.loc[df['image_id'] == image_id, 'InChI']\n",
    "\n",
    "get_InChI_by_image_id(train_df, '000011a64c74')"
   ]
  },
  {
   "cell_type": "code",
   "execution_count": null,
   "id": "46f6704d",
   "metadata": {},
   "outputs": [],
   "source": [
    "for i in range(len(train_df[\"image_id\"])):\n",
    "    train_df['file'] = get_image_path(train_df.loc[0].image_id)"
   ]
  },
  {
   "cell_type": "code",
   "execution_count": null,
   "id": "f939357b",
   "metadata": {},
   "outputs": [],
   "source": [
    "train_df.head(10)"
   ]
  }
 ],
 "metadata": {
  "kernelspec": {
   "display_name": "Python 3 (ipykernel)",
   "language": "python",
   "name": "python3"
  },
  "language_info": {
   "codemirror_mode": {
    "name": "ipython",
    "version": 3
   },
   "file_extension": ".py",
   "mimetype": "text/x-python",
   "name": "python",
   "nbconvert_exporter": "python",
   "pygments_lexer": "ipython3",
   "version": "3.8.10"
  }
 },
 "nbformat": 4,
 "nbformat_minor": 5
}
